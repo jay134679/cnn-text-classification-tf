{
 "cells": [
  {
   "cell_type": "code",
   "execution_count": 1,
   "metadata": {
    "collapsed": false,
    "scrolled": false
   },
   "outputs": [
    {
     "name": "stdout",
     "output_type": "stream",
     "text": [
      "1038\n",
      "text[0]:\"좋아요\" \n",
      "chng[0]:\"좋아요\" \n",
      "text[1]:\"저아염\" \n",
      "chng[1]:\"저아염\" \n",
      "text[2]:\"괜찮아보이네요       근데 저 사진 넘 자극적이다ㅠㅠ\" \n",
      "chng[2]:\"괜찮아보이네요 근데 저 사진 넘 자극적이다ㅠㅠ\" \n",
      "text[3]:\"이거 완전 대박!\" \n",
      "chng[3]:\"이거 완전 대박 !\" \n",
      "text[4]:\"이건 꼭 사야하는 제품!\" \n",
      "chng[4]:\"이건 꼭 사야하는 제품 !\" \n",
      "text[5]:\"ㅅ ㅅ\" \n",
      "chng[5]:\"ㅅ ㅅ\" \n",
      "text[6]:\"이건 꼭 사야해용\" \n",
      "chng[6]:\"이건 꼭 사야해용\" \n",
      "text[7]:\"아이비언니도쓰는 립♥ 짱짱\" \n",
      "chng[7]:\"아이비언니도쓰는 립♥ 짱짱\" \n",
      "text[8]:\"저 이거 샀는데 진~~~짜 안번져요. 내구성은 쫌 떨어지는데 첨에.상품 잘못왔을때도 바로 교환해주셔서 다음날 새상품 받았어요! 갖고있는 라이너중에 젤 안번져요!! 강츄\" \n",
      "chng[8]:\"저 이거 샀는데 진 짜 안번져요 내구성은 쫌 떨어지는데 첨에 상품 잘못왔을때도 바로 교환해주셔서 다음날 새상품 받았어요 ! 갖고있는 라이너중에 젤 안번져요 ! ! 강츄\" \n",
      "text[9]:\"너무좋아요 미미박스 사랑합니디ᆞ\" \n",
      "chng[9]:\"너무좋아요 미미박스 사랑합니디ᆞ\" \n"
     ]
    }
   ],
   "source": [
    "import re\n",
    "import data_helpers\n",
    "data_path = \"/home/ubuntu/work/ML-Testing/data/cnn-text-classification-tf/rt-polaritydata/\"\n",
    "\n",
    "positive_examples = list(open(data_path + \"review.pos\", \"r\").readlines())\n",
    "positive_examples = [s.strip() for s in positive_examples]\n",
    "\n",
    "\n",
    "print len(positive_examples)\n",
    "\n",
    "for i in range(10):\n",
    "    text = positive_examples[i]\n",
    "    chng = data_helpers.clean_str(text)\n",
    "    print (\"\"\"text[%d]:\"%s\" \"\"\" %(i, text))\n",
    "    print (\"\"\"chng[%d]:\"%s\" \"\"\" %(i, chng))\n",
    "\n",
    "# positive_examples = [s.strip() for s in positive_examples]\n",
    "# for i in range(10):\n",
    "#     text = positive_examples[i]\n",
    "#     print (\"\"\"text[%d]:\"%s\" \"\"\" %(i, text))"
   ]
  },
  {
   "cell_type": "code",
   "execution_count": 2,
   "metadata": {
    "collapsed": true
   },
   "outputs": [],
   "source": [
    "def clean_str(string):\n",
    "    \"\"\"\n",
    "    Tokenization/string cleaning for all datasets except for SST.\n",
    "    Original taken from https://github.com/yoonkim/CNN_sentence/blob/master/process_data.py\n",
    "    \"\"\"  \n",
    "    string = re.sub(r\"[^0-9a-za-zㄱ-ㅎㅏ-ㅣ가-힝(),!?\\'\\`]\", \" \", string)\n",
    "    string = re.sub(r\"\\'s\", \" \\'s\", string)\n",
    "    string = re.sub(r\"\\'ve\", \" \\'ve\", string)\n",
    "    string = re.sub(r\"n\\'t\", \" n\\'t\", string)\n",
    "    string = re.sub(r\"\\'re\", \" \\'re\", string)\n",
    "    string = re.sub(r\"\\'d\", \" \\'d\", string)\n",
    "    string = re.sub(r\"\\'ll\", \" \\'ll\", string)\n",
    "    string = re.sub(r\",\", \" , \", string)\n",
    "    string = re.sub(r\"!\", \" ! \", string)\n",
    "    string = re.sub(r\"\\(\", \" \\( \", string)\n",
    "    string = re.sub(r\"\\)\", \" \\) \", string)\n",
    "    string = re.sub(r\"\\?\", \" \\? \", string)\n",
    "    string = re.sub(r\"\\s{2,}\", \" \", string)\n",
    "    return string.strip().lower()"
   ]
  },
  {
   "cell_type": "code",
   "execution_count": 3,
   "metadata": {
    "collapsed": false
   },
   "outputs": [
    {
     "name": "stdout",
     "output_type": "stream",
     "text": [
      "韓子는 싫고 한글은 하다  쵝오 ㅋㅑㅋㅑ \n",
      "[',', 'nice', '.', 'English', '-_-', './?!']\n"
     ]
    }
   ],
   "source": [
    "import re\n",
    "s='韓子는 싫고, 한글은 nice하다. English 쵝오 -_-ㅋㅑㅋㅑ ./?!'\n",
    "hangul = re.compile('[^ ㄱ-ㅣ가-힣]+') # 한글과 띄어쓰기를 제외한 모든 글자\n",
    "\n",
    "result = hangul.sub('', s) # 한글과 띄어쓰기를 제외한 모든 부분을 제거\n",
    "print (result)\n",
    "\n",
    "result = hangul.findall(s)\n",
    "print (result)"
   ]
  },
  {
   "cell_type": "code",
   "execution_count": null,
   "metadata": {
    "collapsed": true
   },
   "outputs": [],
   "source": []
  }
 ],
 "metadata": {
  "kernelspec": {
   "display_name": "Python [Root]",
   "language": "python",
   "name": "Python [Root]"
  },
  "language_info": {
   "codemirror_mode": {
    "name": "ipython",
    "version": 2
   },
   "file_extension": ".py",
   "mimetype": "text/x-python",
   "name": "python",
   "nbconvert_exporter": "python",
   "pygments_lexer": "ipython2",
   "version": "2.7.12"
  }
 },
 "nbformat": 4,
 "nbformat_minor": 0
}
